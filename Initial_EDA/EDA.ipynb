{
 "metadata": {
  "language_info": {
   "codemirror_mode": {
    "name": "ipython",
    "version": 3
   },
   "file_extension": ".py",
   "mimetype": "text/x-python",
   "name": "python",
   "nbconvert_exporter": "python",
   "pygments_lexer": "ipython3",
   "version": "3.8.3"
  },
  "orig_nbformat": 2,
  "kernelspec": {
   "name": "python383jvsc74a57bd0258067fec05d9117b1d6bda8e0cbc478ce2613c73d7469e8517e04fae3e76b27",
   "display_name": "Python 3.8.3 64-bit ('base': conda)"
  }
 },
 "nbformat": 4,
 "nbformat_minor": 2,
 "cells": [
  {
   "cell_type": "code",
   "execution_count": null,
   "metadata": {},
   "outputs": [],
   "source": [
    "import numpy as np\n",
    "import pandas as pd\n",
    "import sweetviz as sv\n",
    "from pandas_profiling import ProfileReport\n",
    "# from autoviz.AutoViz_Class import AutoViz_Class\n",
    "import dtale"
   ]
  },
  {
   "cell_type": "code",
   "execution_count": null,
   "metadata": {},
   "outputs": [],
   "source": [
    "df = pd.read_excel('..\\\\Generated_data\\\\ESG-generated-data.xlsx')\n",
    "profile = ProfileReport(df, title='Pandas Profiling Report', explorative=True)\n",
    "sweet_report = sv.analyze(df)\n",
    "# autoviz = AutoViz_Class().AutoViz('')\n",
    "# dtale.show(df)"
   ]
  },
  {
   "cell_type": "code",
   "execution_count": null,
   "metadata": {},
   "outputs": [],
   "source": [
    "from autoviz.AutoViz_Class import AutoViz_Class\n",
    "autoviz = AutoViz_Class().AutoViz('..\\\\Generated_data\\\\ESG-generated-data.xlsx',verbose=2)"
   ]
  },
  {
   "cell_type": "code",
   "execution_count": null,
   "metadata": {},
   "outputs": [],
   "source": [
    "sweet_report.show_html()\n",
    "profile.to_file(\"pandas_profiling.html\")\n"
   ]
  },
  {
   "cell_type": "code",
   "execution_count": null,
   "metadata": {},
   "outputs": [],
   "source": []
  }
 ]
}